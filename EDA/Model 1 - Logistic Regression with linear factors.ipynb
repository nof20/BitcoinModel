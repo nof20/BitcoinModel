{
 "cells": [
  {
   "cell_type": "code",
   "execution_count": 1,
   "metadata": {
    "collapsed": true
   },
   "outputs": [],
   "source": [
    "import os\n",
    "from datetime import datetime\n",
    "import pandas as pd\n",
    "import numpy as np\n",
    "import seaborn as sns\n",
    "import matplotlib.pyplot as plt"
   ]
  },
  {
   "cell_type": "code",
   "execution_count": 2,
   "metadata": {
    "collapsed": true
   },
   "outputs": [],
   "source": [
    "os.chdir(\"..\")"
   ]
  },
  {
   "cell_type": "code",
   "execution_count": 3,
   "metadata": {
    "collapsed": false
   },
   "outputs": [],
   "source": [
    "from Signals.BitcoinData import BitcoinData\n",
    "from Signals.WikipediaData import WikipediaData\n",
    "from Signals.FXData import FXData"
   ]
  },
  {
   "cell_type": "markdown",
   "metadata": {},
   "source": [
    "Download data for relevant range and normalize."
   ]
  },
  {
   "cell_type": "code",
   "execution_count": 4,
   "metadata": {
    "collapsed": false
   },
   "outputs": [],
   "source": [
    "bd = BitcoinData()\n",
    "bitcoin = bd.get(datetime(2016, 1, 1), datetime(2016, 6, 1))"
   ]
  },
  {
   "cell_type": "code",
   "execution_count": 5,
   "metadata": {
    "collapsed": true
   },
   "outputs": [],
   "source": [
    "wd = WikipediaData()\n",
    "wiki = wd.get(datetime(2016, 1, 1), datetime(2016, 6, 1))"
   ]
  },
  {
   "cell_type": "code",
   "execution_count": 6,
   "metadata": {
    "collapsed": false
   },
   "outputs": [],
   "source": [
    "fxd = FXData()\n",
    "fx = fxd.get(datetime(2016, 1, 1), datetime(2016, 6, 1))"
   ]
  },
  {
   "cell_type": "code",
   "execution_count": 7,
   "metadata": {
    "collapsed": false
   },
   "outputs": [],
   "source": [
    "x = bitcoin.merge(fx, how='outer', left_index=True, right_index=True)\\\n",
    "           .merge(wiki, how='outer', left_index=True, right_index=True)"
   ]
  },
  {
   "cell_type": "markdown",
   "metadata": {},
   "source": [
    "Check for missing data and fill forward."
   ]
  },
  {
   "cell_type": "code",
   "execution_count": 8,
   "metadata": {
    "collapsed": false,
    "scrolled": true
   },
   "outputs": [
    {
     "data": {
      "text/plain": [
       "High       1\n",
       "Low        1\n",
       "Open       1\n",
       "Volume     1\n",
       "USDCNY    58\n",
       "USDEUR    58\n",
       "VIX       58\n",
       "views      0\n",
       "dtype: int64"
      ]
     },
     "execution_count": 8,
     "metadata": {},
     "output_type": "execute_result"
    }
   ],
   "source": [
    "x.isnull().sum()"
   ]
  },
  {
   "cell_type": "code",
   "execution_count": 9,
   "metadata": {
    "collapsed": false
   },
   "outputs": [],
   "source": [
    "x['USDCNY'].fillna(method='pad', inplace=True)\n",
    "x['USDEUR'].fillna(method='pad', inplace=True)\n",
    "x['VIX'].fillna(method='pad', inplace=True)"
   ]
  },
  {
   "cell_type": "markdown",
   "metadata": {},
   "source": [
    "Add transformations."
   ]
  },
  {
   "cell_type": "code",
   "execution_count": 10,
   "metadata": {
    "collapsed": false
   },
   "outputs": [],
   "source": [
    "x['next_open'] = x['Open'].shift(-1)\n",
    "x['change'] = x['next_open'] - x['Open']\n",
    "x['next_day_higher'] = x['change'].map(lambda x: x > 0)"
   ]
  },
  {
   "cell_type": "code",
   "execution_count": 11,
   "metadata": {
    "collapsed": true
   },
   "outputs": [],
   "source": [
    "def addlogret(df, col):\n",
    "    df[col+'_logret'] = np.log(df[col]) - np.log(df[col].shift(1))\n",
    "def addewma(df, col):\n",
    "    for i in [3, 10, 30]:\n",
    "        df[col+'_ewma_'+str(i)] = df[col].ewm(halflife=i).mean()\n",
    "def addewmvar(df, col):\n",
    "    for i in [3, 10, 30]:\n",
    "        df[col+'_ewmvar_'+str(i)] = df[col].ewm(halflife=i).var()"
   ]
  },
  {
   "cell_type": "code",
   "execution_count": 12,
   "metadata": {
    "collapsed": true
   },
   "outputs": [],
   "source": [
    "for col in ['Open', 'Volume', 'USDCNY', 'USDEUR', 'VIX', 'views']:\n",
    "    addlogret(x, col)\n",
    "    addewma(x, col)\n",
    "    addewma(x, col+\"_logret\")\n",
    "    addewmvar(x, col)"
   ]
  },
  {
   "cell_type": "code",
   "execution_count": 13,
   "metadata": {
    "collapsed": false
   },
   "outputs": [],
   "source": [
    "x.dropna(inplace=True)"
   ]
  },
  {
   "cell_type": "markdown",
   "metadata": {},
   "source": [
    "Build logistic regression model."
   ]
  },
  {
   "cell_type": "code",
   "execution_count": 14,
   "metadata": {
    "collapsed": false
   },
   "outputs": [],
   "source": [
    "y = x['next_day_higher']"
   ]
  },
  {
   "cell_type": "code",
   "execution_count": 15,
   "metadata": {
    "collapsed": false
   },
   "outputs": [],
   "source": [
    "x.drop(['next_day_higher'], axis=1, inplace=True)"
   ]
  },
  {
   "cell_type": "code",
   "execution_count": 16,
   "metadata": {
    "collapsed": true
   },
   "outputs": [],
   "source": [
    "from sklearn import linear_model"
   ]
  },
  {
   "cell_type": "code",
   "execution_count": 17,
   "metadata": {
    "collapsed": false
   },
   "outputs": [
    {
     "data": {
      "text/plain": [
       "LogisticRegression(C=100000.0, class_weight=None, dual=False,\n",
       "          fit_intercept=True, intercept_scaling=1, max_iter=100,\n",
       "          multi_class='ovr', n_jobs=1, penalty='l2', random_state=None,\n",
       "          solver='liblinear', tol=0.0001, verbose=0, warm_start=False)"
      ]
     },
     "execution_count": 17,
     "metadata": {},
     "output_type": "execute_result"
    }
   ],
   "source": [
    "logreg = linear_model.LogisticRegression(C=1e5)\n",
    "logreg.fit(x, y)"
   ]
  },
  {
   "cell_type": "code",
   "execution_count": 18,
   "metadata": {
    "collapsed": false
   },
   "outputs": [
    {
     "name": "stdout",
     "output_type": "stream",
     "text": [
      "Model score: 56.5%\n"
     ]
    }
   ],
   "source": [
    "print(\"Model score: {:.1f}%\".format(100*logreg.score(x, y)))"
   ]
  },
  {
   "cell_type": "markdown",
   "metadata": {},
   "source": [
    "Test predictions."
   ]
  },
  {
   "cell_type": "code",
   "execution_count": 19,
   "metadata": {
    "collapsed": false
   },
   "outputs": [],
   "source": [
    "from PerfAnalysis.PnL import PnL"
   ]
  },
  {
   "cell_type": "code",
   "execution_count": 20,
   "metadata": {
    "collapsed": false
   },
   "outputs": [
    {
     "data": {
      "text/plain": [
       "{'APR': 212.82985561414253,\n",
       " 'cash': 0,\n",
       " 'position': 0.51604581259045823,\n",
       " 'value': 269.0353239359095}"
      ]
     },
     "execution_count": 20,
     "metadata": {},
     "output_type": "execute_result"
    }
   ],
   "source": [
    "pnl = PnL()\n",
    "pnl.calc_pnl(x, y, price_col=\"Open\")"
   ]
  },
  {
   "cell_type": "markdown",
   "metadata": {},
   "source": [
    "219% (annualized) return over the training set, even including 25 bp commission, but how about the final six months of the year?"
   ]
  },
  {
   "cell_type": "code",
   "execution_count": 21,
   "metadata": {
    "collapsed": true
   },
   "outputs": [],
   "source": [
    "bitcoin = bd.get(datetime(2016, 6, 1), datetime(2017, 1, 1))\n",
    "wiki = wd.get(datetime(2016, 6, 1), datetime(2017, 1, 1))\n",
    "fx = fxd.get(datetime(2016, 6, 1), datetime(2017, 1, 1))\n",
    "x = bitcoin.merge(fx, how='outer', left_index=True, right_index=True)\\\n",
    "           .merge(wiki, how='outer', left_index=True, right_index=True)\n",
    "x['USDCNY'].fillna(method='pad', inplace=True)\n",
    "x['USDEUR'].fillna(method='pad', inplace=True)\n",
    "x['VIX'].fillna(method='pad', inplace=True)\n",
    "x['next_open'] = x['Open'].shift(-1)\n",
    "x['change'] = x['next_open'] - x['Open']\n",
    "x['next_day_higher'] = x['change'].map(lambda x: x > 0)\n",
    "for col in ['Open', 'Volume', 'USDCNY', 'USDEUR', 'VIX', 'views']:\n",
    "    addlogret(x, col)\n",
    "    addewma(x, col)\n",
    "    addewma(x, col+\"_logret\")\n",
    "    addewmvar(x, col)\n",
    "x.drop(['next_day_higher'], axis=1, inplace=True)\n",
    "x.dropna(inplace=True)"
   ]
  },
  {
   "cell_type": "code",
   "execution_count": 22,
   "metadata": {
    "collapsed": false
   },
   "outputs": [],
   "source": [
    "pred = logreg.predict(x)"
   ]
  },
  {
   "cell_type": "code",
   "execution_count": 23,
   "metadata": {
    "collapsed": false
   },
   "outputs": [
    {
     "data": {
      "text/plain": [
       "{'APR': -111.22094549159256,\n",
       " 'cash': 74.649234306898478,\n",
       " 'position': 0,\n",
       " 'value': 74.649234306898478}"
      ]
     },
     "execution_count": 23,
     "metadata": {},
     "output_type": "execute_result"
    }
   ],
   "source": [
    "pnl.calc_pnl(x, pred, price_col=\"Open\")"
   ]
  },
  {
   "cell_type": "markdown",
   "metadata": {},
   "source": [
    "A ha, much less successful on the test dataset."
   ]
  }
 ],
 "metadata": {
  "anaconda-cloud": {},
  "kernelspec": {
   "display_name": "Python [default]",
   "language": "python",
   "name": "python3"
  },
  "language_info": {
   "codemirror_mode": {
    "name": "ipython",
    "version": 3
   },
   "file_extension": ".py",
   "mimetype": "text/x-python",
   "name": "python",
   "nbconvert_exporter": "python",
   "pygments_lexer": "ipython3",
   "version": "3.5.2"
  }
 },
 "nbformat": 4,
 "nbformat_minor": 2
}
